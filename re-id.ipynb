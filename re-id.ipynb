{
 "cells": [
  {
   "cell_type": "code",
   "execution_count": 1,
   "metadata": {},
   "outputs": [
    {
     "name": "stderr",
     "output_type": "stream",
     "text": [
      "/home/marojeon/anaconda3/envs/yolov7/lib/python3.9/site-packages/tqdm/auto.py:22: TqdmWarning: IProgress not found. Please update jupyter and ipywidgets. See https://ipywidgets.readthedocs.io/en/stable/user_install.html\n",
      "  from .autonotebook import tqdm as notebook_tqdm\n"
     ]
    }
   ],
   "source": [
    "from __future__ import division, print_function, absolute_import\n",
    "import torch\n",
    "from torch.nn import functional as F\n",
    "\n",
    "def euclidean_squared_distance(input1, input2):\n",
    "    \"\"\"Computes euclidean squared distance.\n",
    "    Args:\n",
    "        input1 (torch.Tensor): 2-D feature matrix.\n",
    "        input2 (torch.Tensor): 2-D feature matrix.\n",
    "    Returns:\n",
    "        torch.Tensor: distance matrix.\n",
    "    \"\"\"\n",
    "    m, n = input1.size(0), input2.size(0)\n",
    "    mat1 = torch.pow(input1, 2).sum(dim=1, keepdim=True).expand(m, n)\n",
    "    mat2 = torch.pow(input2, 2).sum(dim=1, keepdim=True).expand(n, m).t()\n",
    "    distmat = mat1 + mat2\n",
    "    distmat.addmm_(input1, input2.t(), beta=1, alpha=-2)\n",
    "    return distmat\n",
    "\n",
    "def cosine_distance(input1, input2):\n",
    "    \"\"\"Computes cosine distance.\n",
    "    Args:\n",
    "        input1 (torch.Tensor): 2-D feature matrix.\n",
    "        input2 (torch.Tensor): 2-D feature matrix.\n",
    "    Returns:\n",
    "        torch.Tensor: distance matrix.\n",
    "    \"\"\"\n",
    "    input1_normed = F.normalize(input1, p=2, dim=1)\n",
    "    input2_normed = F.normalize(input2, p=2, dim=1)\n",
    "    distmat = 1 - torch.mm(input1_normed, input2_normed.t())\n",
    "    return distmat\n",
    "\n",
    "def compute_distance_matrix(input1, input2, metric=\"euclidean\"):\n",
    "    \"\"\"A wrapper function for computing distance matrix.\n",
    "    Args:\n",
    "        input1 (torch.Tensor): 2-D feature matrix.\n",
    "        input2 (torch.Tensor): 2-D feature matrix.\n",
    "        metric (str, optional): \"euclidean\" or \"cosine\".\n",
    "            Default is \"euclidean\".\n",
    "    Returns:\n",
    "        torch.Tensor: distance matrix.\n",
    "    Examples::\n",
    "       >>> from torchreid import metrics\n",
    "       >>> input1 = torch.rand(10, 2048)\n",
    "       >>> input2 = torch.rand(100, 2048)\n",
    "       >>> distmat = metrics.compute_distance_matrix(input1, input2)\n",
    "       >>> distmat.size() # (10, 100)\n",
    "    \"\"\"\n",
    "    # check input\n",
    "    assert isinstance(input1, torch.Tensor)\n",
    "    assert isinstance(input2, torch.Tensor)\n",
    "    assert input1.dim() == 2, \"Expected 2-D tensor, but got {}-D\".format(input1.dim())\n",
    "    assert input2.dim() == 2, \"Expected 2-D tensor, but got {}-D\".format(input2.dim())\n",
    "    assert input1.size(1) == input2.size(1)\n",
    "\n",
    "    if metric == \"euclidean\":\n",
    "        distmat = euclidean_squared_distance(input1, input2)\n",
    "    elif metric == \"cosine\":\n",
    "        distmat = cosine_distance(input1, input2)\n",
    "    else:\n",
    "        raise ValueError(\n",
    "            \"Unknown distance metric: {}. \"\n",
    "            'Please choose either \"euclidean\" or \"cosine\"'.format(metric)\n",
    "        )\n",
    "\n",
    "    return distmat"
   ]
  },
  {
   "cell_type": "code",
   "execution_count": 7,
   "metadata": {},
   "outputs": [],
   "source": [
    "import json\n",
    "import numpy as np\n",
    "\n",
    "with open(\"0_3_intrusion_out_in.json\", \"r\") as j:\n",
    "    rs1 = json.load(j)\n",
    "input1 = np.array(rs1[\"reid_feature\"])\n",
    "\n",
    "with open(\"0_3_intrusion_out_out.json\", \"r\") as j:\n",
    "    rs2 = json.load(j)\n",
    "input2 = np.array(rs2[\"reid_feature\"])\n",
    "\n",
    "\n"
   ]
  },
  {
   "cell_type": "code",
   "execution_count": 18,
   "metadata": {},
   "outputs": [],
   "source": [
    "import torch\n",
    "\n",
    "t_input1 = torch.from_numpy(input1.reshape(1, -1))\n",
    "t_input2 = torch.from_numpy(input2.reshape(1, -1))\n",
    "compute_distance_matrix(t_input1, t_input2, metric=\"cosine\")"
   ]
  }
 ],
 "metadata": {
  "kernelspec": {
   "display_name": "Python 3.9.15 ('yolov7')",
   "language": "python",
   "name": "python3"
  },
  "language_info": {
   "codemirror_mode": {
    "name": "ipython",
    "version": 3
   },
   "file_extension": ".py",
   "mimetype": "text/x-python",
   "name": "python",
   "nbconvert_exporter": "python",
   "pygments_lexer": "ipython3",
   "version": "3.9.15"
  },
  "orig_nbformat": 4,
  "vscode": {
   "interpreter": {
    "hash": "bb6ab381b2babc6717eb694d14228205e88313a883884aad7c90204073144091"
   }
  }
 },
 "nbformat": 4,
 "nbformat_minor": 2
}
